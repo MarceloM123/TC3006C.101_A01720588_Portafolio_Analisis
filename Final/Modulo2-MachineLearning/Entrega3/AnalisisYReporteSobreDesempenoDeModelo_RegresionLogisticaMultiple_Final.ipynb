{
 "cells": [
  {
   "cell_type": "markdown",
   "source": [
    "# Momento de Retroalimentación: Módulo 2 Análisis y Reporte sobre el desempeño del modelo\n",
    "**Elaborado por Marcelo Márquez Murillo - A01720588, para la clase TC3006C.101**\n",
    "\n",
    "**Dataset**\n",
    "*Diabetes Healthcare: Comprehensive Dataset*\n",
    "El Instituto Nacional de Diabetes y Enfermedades Digestivas y Renales (NIDDK), es una institución dedicada a la investigación y desarrollo de tratamientos médicos para enfermedades crónicas. Con el propósito de avanzar en la comprensión y predicción de pacientes propensos a padecer diabetes, han establecido una base de datos que recopila información de salud de diversos pacientes, así como su estado de salud en relación con la diabetes. Esta base de datos se emplea para entrenar un modelo de Aprendizaje Automático (Machine Learning) con el fin de mejorar la precisión de los diagnósticos relacionados con esta enfermedad.\n",
    "\n",
    "**Cantidad de registros: 768**\n",
    "La base de datos contiene la siguiente información por paciente:\n",
    "* Variables independientes\n",
    "* Pregnancies - número de veces que la paciente se haya embarazado.\n",
    "* Glucose - concentración de glucosa en el cuerpo del paciente.\n",
    "* BloodPressure - Presión arterial del paciente.\n",
    "* SkinThickness - Grosor del pliegue cutáneo del tríceps.\n",
    "* Insulin - Suero de insulina.\n",
    "* BMI - Body Mass Index (Índice de masa corporal).\n",
    "* DiabetesPedigreeFunction - Función del pedigrí de la diabetes\n",
    "* Age - Edad del paciente.\n",
    "* Variable dependiente\n",
    "* Outcome - Variable de clase binaria, 1 representa que el paciente tiene diabetes y 0 significa que no tiene diabetes.\n",
    "\n",
    "Link al dataset: https://www.kaggle.com/datasets/deependraverma13/diabetes-healthcare-comprehensive-dataset?datasetId=3546399&sortBy=voteCount  \n",
    "Este dataset tiene la licencia: *Database Contents License (DbCL) v1.0*\n",
    "\n",
    "\n",
    "**Modelo utilizado**\n",
    "La elección del modelo de regresión logística múltiple (clasificación binaria) se fundamenta en su capacidad para manejar eficazmente variables dependientes de naturaleza binaria, como es el caso de nuestro \"Outcome\" que indica la presencia o ausencia de diabetes. Además, este modelo es especialmente apto para interpretar relaciones complejas entre múltiples variables independientes numéricas, como las que se presentan en nuestro conjunto de datos. La regresión logística múltiple no solo proporciona una métrica de probabilidad para la clasificación, sino que también permite una comprensión más profunda de las interacciones entre las variables, lo cual es crucial para la toma de decisiones médicas basadas en datos. Este enfoque se alinea con el objetivo de mejorar la precisión diagnóstica en el ámbito de la atención sanitaria para la diabetes.\n",
    "\n",
    "\n",
    "**Métricas a utilizar**\n",
    "* Matriz de confusión: Una tabla que muestra las cuatro posibles combinaciones de resultados predichos y reales.\n",
    "    - Verdaderos Positivos (VP): Casos positivos correctamente identificados por el modelo.\n",
    "    - Falsos Positivos (FP): Casos negativos incorrectamente identificados como positivos.\n",
    "    - Verdaderos Negativos (VN): Casos negativos correctamente identificados por el modelo.\n",
    "    - Falsos Negativos (FN): Casos positivos incorrectamente identificados como negativos.\n",
    "* Exactitud (*Accuracy*): Indica el porcentaje de predicciones correctas del total de predicciones.\n",
    "* Precisión (*Precision*): De todas las predicciones positivas que realizó el modelo, muestra el porcentaje que fueron correctas.\n",
    "* Sensibilidad (*Recall*): De todos los casos positivos reales, muestra el porcentaje que el modelo logró identificar correctamente.\n",
    "* Puntaje F1 (*F1 Score*): Es el promedio armónico entre la precisión y la sensibilidad, ofreciendo un balance entre ambas métricas.\n",
    "\n",
    "Cada una de estas métricas ofrece una perspectiva diferente sobre el rendimiento del modelo, y juntas brindan una visión comprensiva de cómo está funcionando el modelo en diferentes aspectos. Es importante considerar todas estas métricas para obtener una comprensión completa del rendimiento del modelo."
   ],
   "metadata": {
    "collapsed": false
   },
   "id": "bdf07cf2bf2256cc"
  },
  {
   "cell_type": "code",
   "execution_count": 31,
   "outputs": [],
   "source": [
    "# Importamos las librerías\n",
    "import pandas as pd\n",
    "import numpy as np\n",
    "import matplotlib.pyplot as plt\n",
    "from imblearn.over_sampling import SMOTE\n",
    "from sklearn.linear_model import LogisticRegression\n",
    "from sklearn.model_selection import train_test_split, GridSearchCV, learning_curve\n",
    "from sklearn.metrics import confusion_matrix, ConfusionMatrixDisplay\n",
    "from sklearn.metrics import accuracy_score, precision_score, recall_score, f1_score, roc_auc_score, log_loss\n",
    "%matplotlib inline"
   ],
   "metadata": {
    "collapsed": false,
    "ExecuteTime": {
     "end_time": "2023-09-11T23:57:05.588357Z",
     "start_time": "2023-09-11T23:57:05.517162Z"
    }
   },
   "id": "411599f15d83d07"
  },
  {
   "cell_type": "code",
   "execution_count": 32,
   "outputs": [
    {
     "data": {
      "text/plain": "     Pregnancies  Glucose  BloodPressure  SkinThickness  Insulin   BMI  \\\n0              6      148             72             35        0  33.6   \n1              1       85             66             29        0  26.6   \n2              8      183             64              0        0  23.3   \n3              1       89             66             23       94  28.1   \n4              0      137             40             35      168  43.1   \n..           ...      ...            ...            ...      ...   ...   \n763           10      101             76             48      180  32.9   \n764            2      122             70             27        0  36.8   \n765            5      121             72             23      112  26.2   \n766            1      126             60              0        0  30.1   \n767            1       93             70             31        0  30.4   \n\n     DiabetesPedigreeFunction  Age  Outcome  \n0                       0.627   50        1  \n1                       0.351   31        0  \n2                       0.672   32        1  \n3                       0.167   21        0  \n4                       2.288   33        1  \n..                        ...  ...      ...  \n763                     0.171   63        0  \n764                     0.340   27        0  \n765                     0.245   30        0  \n766                     0.349   47        1  \n767                     0.315   23        0  \n\n[768 rows x 9 columns]",
      "text/html": "<div>\n<style scoped>\n    .dataframe tbody tr th:only-of-type {\n        vertical-align: middle;\n    }\n\n    .dataframe tbody tr th {\n        vertical-align: top;\n    }\n\n    .dataframe thead th {\n        text-align: right;\n    }\n</style>\n<table border=\"1\" class=\"dataframe\">\n  <thead>\n    <tr style=\"text-align: right;\">\n      <th></th>\n      <th>Pregnancies</th>\n      <th>Glucose</th>\n      <th>BloodPressure</th>\n      <th>SkinThickness</th>\n      <th>Insulin</th>\n      <th>BMI</th>\n      <th>DiabetesPedigreeFunction</th>\n      <th>Age</th>\n      <th>Outcome</th>\n    </tr>\n  </thead>\n  <tbody>\n    <tr>\n      <th>0</th>\n      <td>6</td>\n      <td>148</td>\n      <td>72</td>\n      <td>35</td>\n      <td>0</td>\n      <td>33.6</td>\n      <td>0.627</td>\n      <td>50</td>\n      <td>1</td>\n    </tr>\n    <tr>\n      <th>1</th>\n      <td>1</td>\n      <td>85</td>\n      <td>66</td>\n      <td>29</td>\n      <td>0</td>\n      <td>26.6</td>\n      <td>0.351</td>\n      <td>31</td>\n      <td>0</td>\n    </tr>\n    <tr>\n      <th>2</th>\n      <td>8</td>\n      <td>183</td>\n      <td>64</td>\n      <td>0</td>\n      <td>0</td>\n      <td>23.3</td>\n      <td>0.672</td>\n      <td>32</td>\n      <td>1</td>\n    </tr>\n    <tr>\n      <th>3</th>\n      <td>1</td>\n      <td>89</td>\n      <td>66</td>\n      <td>23</td>\n      <td>94</td>\n      <td>28.1</td>\n      <td>0.167</td>\n      <td>21</td>\n      <td>0</td>\n    </tr>\n    <tr>\n      <th>4</th>\n      <td>0</td>\n      <td>137</td>\n      <td>40</td>\n      <td>35</td>\n      <td>168</td>\n      <td>43.1</td>\n      <td>2.288</td>\n      <td>33</td>\n      <td>1</td>\n    </tr>\n    <tr>\n      <th>...</th>\n      <td>...</td>\n      <td>...</td>\n      <td>...</td>\n      <td>...</td>\n      <td>...</td>\n      <td>...</td>\n      <td>...</td>\n      <td>...</td>\n      <td>...</td>\n    </tr>\n    <tr>\n      <th>763</th>\n      <td>10</td>\n      <td>101</td>\n      <td>76</td>\n      <td>48</td>\n      <td>180</td>\n      <td>32.9</td>\n      <td>0.171</td>\n      <td>63</td>\n      <td>0</td>\n    </tr>\n    <tr>\n      <th>764</th>\n      <td>2</td>\n      <td>122</td>\n      <td>70</td>\n      <td>27</td>\n      <td>0</td>\n      <td>36.8</td>\n      <td>0.340</td>\n      <td>27</td>\n      <td>0</td>\n    </tr>\n    <tr>\n      <th>765</th>\n      <td>5</td>\n      <td>121</td>\n      <td>72</td>\n      <td>23</td>\n      <td>112</td>\n      <td>26.2</td>\n      <td>0.245</td>\n      <td>30</td>\n      <td>0</td>\n    </tr>\n    <tr>\n      <th>766</th>\n      <td>1</td>\n      <td>126</td>\n      <td>60</td>\n      <td>0</td>\n      <td>0</td>\n      <td>30.1</td>\n      <td>0.349</td>\n      <td>47</td>\n      <td>1</td>\n    </tr>\n    <tr>\n      <th>767</th>\n      <td>1</td>\n      <td>93</td>\n      <td>70</td>\n      <td>31</td>\n      <td>0</td>\n      <td>30.4</td>\n      <td>0.315</td>\n      <td>23</td>\n      <td>0</td>\n    </tr>\n  </tbody>\n</table>\n<p>768 rows × 9 columns</p>\n</div>"
     },
     "execution_count": 32,
     "metadata": {},
     "output_type": "execute_result"
    }
   ],
   "source": [
    "# Leemos el archivo framingham.csv\n",
    "df = pd.read_csv('health_care_diabetes.csv')\n",
    "df"
   ],
   "metadata": {
    "collapsed": false,
    "ExecuteTime": {
     "end_time": "2023-09-11T23:57:05.643645Z",
     "start_time": "2023-09-11T23:57:05.524319Z"
    }
   },
   "id": "1aac8d6662aa71a3"
  },
  {
   "cell_type": "code",
   "execution_count": 33,
   "outputs": [],
   "source": [
    "# Utilizamos la media sin ceros en los valores faltantes de las columnas especificadas\n",
    "mean_glucose = df[df[\"Glucose\"] != 0][\"Glucose\"].mean()\n",
    "df[\"Glucose\"].replace(0, mean_glucose, inplace=True)\n",
    "mean_blood_pressure = df[df[\"BloodPressure\"] != 0][\"BloodPressure\"].mean()\n",
    "df[\"BloodPressure\"].replace(0, mean_blood_pressure, inplace=True)\n",
    "mean_skin_thickness = df[df[\"SkinThickness\"] != 0][\"SkinThickness\"].mean()\n",
    "df[\"SkinThickness\"].replace(0, mean_skin_thickness, inplace=True)\n",
    "mean_insulin = df[df[\"Insulin\"] != 0][\"Insulin\"].mean()\n",
    "df[\"Insulin\"].replace(0, mean_insulin, inplace=True)\n",
    "mean_bmi = df[df[\"BMI\"] != 0][\"BMI\"].mean()\n",
    "df[\"BMI\"].replace(0, mean_bmi, inplace=True)"
   ],
   "metadata": {
    "collapsed": false,
    "ExecuteTime": {
     "end_time": "2023-09-11T23:57:05.645465Z",
     "start_time": "2023-09-11T23:57:05.544574Z"
    }
   },
   "id": "d76a48f3b74ec30d"
  },
  {
   "cell_type": "code",
   "execution_count": 34,
   "outputs": [
    {
     "data": {
      "text/plain": "       Pregnancies     Glucose  BloodPressure  SkinThickness     Insulin  \\\ncount   768.000000  768.000000     768.000000     768.000000  768.000000   \nmean      3.845052  121.686763      72.405184      29.153420  155.548223   \nstd       3.369578   30.435949      12.096346       8.790942   85.021108   \nmin       0.000000   44.000000      24.000000       7.000000   14.000000   \n25%       1.000000   99.750000      64.000000      25.000000  121.500000   \n50%       3.000000  117.000000      72.202592      29.153420  155.548223   \n75%       6.000000  140.250000      80.000000      32.000000  155.548223   \nmax      17.000000  199.000000     122.000000      99.000000  846.000000   \n\n              BMI  DiabetesPedigreeFunction         Age     Outcome  \ncount  768.000000                768.000000  768.000000  768.000000  \nmean    32.457464                  0.471876   33.240885    0.348958  \nstd      6.875151                  0.331329   11.760232    0.476951  \nmin     18.200000                  0.078000   21.000000    0.000000  \n25%     27.500000                  0.243750   24.000000    0.000000  \n50%     32.400000                  0.372500   29.000000    0.000000  \n75%     36.600000                  0.626250   41.000000    1.000000  \nmax     67.100000                  2.420000   81.000000    1.000000  ",
      "text/html": "<div>\n<style scoped>\n    .dataframe tbody tr th:only-of-type {\n        vertical-align: middle;\n    }\n\n    .dataframe tbody tr th {\n        vertical-align: top;\n    }\n\n    .dataframe thead th {\n        text-align: right;\n    }\n</style>\n<table border=\"1\" class=\"dataframe\">\n  <thead>\n    <tr style=\"text-align: right;\">\n      <th></th>\n      <th>Pregnancies</th>\n      <th>Glucose</th>\n      <th>BloodPressure</th>\n      <th>SkinThickness</th>\n      <th>Insulin</th>\n      <th>BMI</th>\n      <th>DiabetesPedigreeFunction</th>\n      <th>Age</th>\n      <th>Outcome</th>\n    </tr>\n  </thead>\n  <tbody>\n    <tr>\n      <th>count</th>\n      <td>768.000000</td>\n      <td>768.000000</td>\n      <td>768.000000</td>\n      <td>768.000000</td>\n      <td>768.000000</td>\n      <td>768.000000</td>\n      <td>768.000000</td>\n      <td>768.000000</td>\n      <td>768.000000</td>\n    </tr>\n    <tr>\n      <th>mean</th>\n      <td>3.845052</td>\n      <td>121.686763</td>\n      <td>72.405184</td>\n      <td>29.153420</td>\n      <td>155.548223</td>\n      <td>32.457464</td>\n      <td>0.471876</td>\n      <td>33.240885</td>\n      <td>0.348958</td>\n    </tr>\n    <tr>\n      <th>std</th>\n      <td>3.369578</td>\n      <td>30.435949</td>\n      <td>12.096346</td>\n      <td>8.790942</td>\n      <td>85.021108</td>\n      <td>6.875151</td>\n      <td>0.331329</td>\n      <td>11.760232</td>\n      <td>0.476951</td>\n    </tr>\n    <tr>\n      <th>min</th>\n      <td>0.000000</td>\n      <td>44.000000</td>\n      <td>24.000000</td>\n      <td>7.000000</td>\n      <td>14.000000</td>\n      <td>18.200000</td>\n      <td>0.078000</td>\n      <td>21.000000</td>\n      <td>0.000000</td>\n    </tr>\n    <tr>\n      <th>25%</th>\n      <td>1.000000</td>\n      <td>99.750000</td>\n      <td>64.000000</td>\n      <td>25.000000</td>\n      <td>121.500000</td>\n      <td>27.500000</td>\n      <td>0.243750</td>\n      <td>24.000000</td>\n      <td>0.000000</td>\n    </tr>\n    <tr>\n      <th>50%</th>\n      <td>3.000000</td>\n      <td>117.000000</td>\n      <td>72.202592</td>\n      <td>29.153420</td>\n      <td>155.548223</td>\n      <td>32.400000</td>\n      <td>0.372500</td>\n      <td>29.000000</td>\n      <td>0.000000</td>\n    </tr>\n    <tr>\n      <th>75%</th>\n      <td>6.000000</td>\n      <td>140.250000</td>\n      <td>80.000000</td>\n      <td>32.000000</td>\n      <td>155.548223</td>\n      <td>36.600000</td>\n      <td>0.626250</td>\n      <td>41.000000</td>\n      <td>1.000000</td>\n    </tr>\n    <tr>\n      <th>max</th>\n      <td>17.000000</td>\n      <td>199.000000</td>\n      <td>122.000000</td>\n      <td>99.000000</td>\n      <td>846.000000</td>\n      <td>67.100000</td>\n      <td>2.420000</td>\n      <td>81.000000</td>\n      <td>1.000000</td>\n    </tr>\n  </tbody>\n</table>\n</div>"
     },
     "execution_count": 34,
     "metadata": {},
     "output_type": "execute_result"
    }
   ],
   "source": [
    "df.describe()"
   ],
   "metadata": {
    "collapsed": false,
    "ExecuteTime": {
     "end_time": "2023-09-11T23:57:05.646253Z",
     "start_time": "2023-09-11T23:57:05.550086Z"
    }
   },
   "id": "6c361c4540b7ce2e"
  },
  {
   "cell_type": "code",
   "execution_count": 35,
   "outputs": [
    {
     "data": {
      "text/plain": "   Pregnancies  Glucose  BloodPressure  SkinThickness     Insulin   BMI  \\\n0            6    148.0           72.0       35.00000  155.548223  33.6   \n1            1     85.0           66.0       29.00000  155.548223  26.6   \n2            8    183.0           64.0       29.15342  155.548223  23.3   \n3            1     89.0           66.0       23.00000   94.000000  28.1   \n4            0    137.0           40.0       35.00000  168.000000  43.1   \n\n   DiabetesPedigreeFunction  Age  Outcome  \n0                     0.627   50        1  \n1                     0.351   31        0  \n2                     0.672   32        1  \n3                     0.167   21        0  \n4                     2.288   33        1  ",
      "text/html": "<div>\n<style scoped>\n    .dataframe tbody tr th:only-of-type {\n        vertical-align: middle;\n    }\n\n    .dataframe tbody tr th {\n        vertical-align: top;\n    }\n\n    .dataframe thead th {\n        text-align: right;\n    }\n</style>\n<table border=\"1\" class=\"dataframe\">\n  <thead>\n    <tr style=\"text-align: right;\">\n      <th></th>\n      <th>Pregnancies</th>\n      <th>Glucose</th>\n      <th>BloodPressure</th>\n      <th>SkinThickness</th>\n      <th>Insulin</th>\n      <th>BMI</th>\n      <th>DiabetesPedigreeFunction</th>\n      <th>Age</th>\n      <th>Outcome</th>\n    </tr>\n  </thead>\n  <tbody>\n    <tr>\n      <th>0</th>\n      <td>6</td>\n      <td>148.0</td>\n      <td>72.0</td>\n      <td>35.00000</td>\n      <td>155.548223</td>\n      <td>33.6</td>\n      <td>0.627</td>\n      <td>50</td>\n      <td>1</td>\n    </tr>\n    <tr>\n      <th>1</th>\n      <td>1</td>\n      <td>85.0</td>\n      <td>66.0</td>\n      <td>29.00000</td>\n      <td>155.548223</td>\n      <td>26.6</td>\n      <td>0.351</td>\n      <td>31</td>\n      <td>0</td>\n    </tr>\n    <tr>\n      <th>2</th>\n      <td>8</td>\n      <td>183.0</td>\n      <td>64.0</td>\n      <td>29.15342</td>\n      <td>155.548223</td>\n      <td>23.3</td>\n      <td>0.672</td>\n      <td>32</td>\n      <td>1</td>\n    </tr>\n    <tr>\n      <th>3</th>\n      <td>1</td>\n      <td>89.0</td>\n      <td>66.0</td>\n      <td>23.00000</td>\n      <td>94.000000</td>\n      <td>28.1</td>\n      <td>0.167</td>\n      <td>21</td>\n      <td>0</td>\n    </tr>\n    <tr>\n      <th>4</th>\n      <td>0</td>\n      <td>137.0</td>\n      <td>40.0</td>\n      <td>35.00000</td>\n      <td>168.000000</td>\n      <td>43.1</td>\n      <td>2.288</td>\n      <td>33</td>\n      <td>1</td>\n    </tr>\n  </tbody>\n</table>\n</div>"
     },
     "execution_count": 35,
     "metadata": {},
     "output_type": "execute_result"
    }
   ],
   "source": [
    "df.head(5)"
   ],
   "metadata": {
    "collapsed": false,
    "ExecuteTime": {
     "end_time": "2023-09-11T23:57:05.646593Z",
     "start_time": "2023-09-11T23:57:05.563474Z"
    }
   },
   "id": "895d7091f7d3f6ba"
  },
  {
   "cell_type": "markdown",
   "source": [
    "## Separación de datos (Train/Test/Validation)"
   ],
   "metadata": {
    "collapsed": false
   },
   "id": "8143366eb9f0379f"
  },
  {
   "cell_type": "markdown",
   "source": [
    "Se decidió separar los datos de la siguiente manera:\n",
    "* Datos de entrenamiento: 70%\n",
    "* Datos de validación: 21%\n",
    "* Datos de prueba: 9%\n",
    "\n",
    "Esta separación es adecuada para garantizar que el modelo tenga suficientes datos para aprender, mientras se reserva una parte para la validación y la prueba."
   ],
   "metadata": {
    "collapsed": false
   },
   "id": "3e659e71580a26b6"
  },
  {
   "cell_type": "code",
   "execution_count": 36,
   "outputs": [
    {
     "name": "stdout",
     "output_type": "stream",
     "text": [
      "1: 350\n",
      "0: 350\n",
      "Tamaño de entrenamiento: 700\n",
      "Tamaño de validación: 70\n",
      "Tamaño de prueba: 161\n"
     ]
    }
   ],
   "source": [
    "X = df.drop('Outcome', axis=1)\n",
    "y = df['Outcome']\n",
    "\n",
    "X_train, X_temp, y_train, y_temp = train_test_split(X, y, train_size=0.7, test_size=0.3, random_state=42, stratify=y)\n",
    "X_test, X_val, y_test, y_val = train_test_split(X_temp, y_temp, train_size=0.7, test_size=0.3, random_state=42, stratify=y_temp)\n",
    "\n",
    "# Utilizamos SMOTE para agregar valores sintéticos a la clase 1\n",
    "smote = SMOTE(random_state=42)\n",
    "X_train, y_train = smote.fit_resample(X_train, y_train)\n",
    "\n",
    "# Revisamos cuantos valores son 1s y 0s\n",
    "print(f\"1: {(y_train == 1).sum()}\")\n",
    "print(f\"0: {(y_train == 0).sum()}\")\n",
    "\n",
    "print('Tamaño de entrenamiento:', len(X_train))\n",
    "print('Tamaño de validación:', len(X_val))\n",
    "print('Tamaño de prueba:', len(X_test))"
   ],
   "metadata": {
    "collapsed": false,
    "ExecuteTime": {
     "end_time": "2023-09-11T23:57:05.646980Z",
     "start_time": "2023-09-11T23:57:05.569092Z"
    }
   },
   "id": "9c8b7a937402f71d"
  },
  {
   "cell_type": "markdown",
   "source": [
    "## Entrenamiento del modelo"
   ],
   "metadata": {
    "collapsed": false
   },
   "id": "129176154764e5a0"
  },
  {
   "cell_type": "markdown",
   "source": [
    "Para poder conseguir los mejores hiper parámetros, hacemos uso de la herramienta GridSearchCV donde le agregamos diferentes combinaciones de parámetros a utilizar.\n",
    "\n",
    "* C: \n",
    "* penalty:\n",
    "* solver:\n",
    "* l1_ratio:"
   ],
   "metadata": {
    "collapsed": false
   },
   "id": "9cea45e3bb1171f2"
  },
  {
   "cell_type": "code",
   "execution_count": 37,
   "outputs": [
    {
     "name": "stdout",
     "output_type": "stream",
     "text": [
      "Fitting 5 folds for each of 50 candidates, totalling 250 fits\n",
      "Mejores parámetros: {'C': 0.6, 'penalty': 'l2', 'solver': 'lbfgs'}\n"
     ]
    }
   ],
   "source": [
    "# Hiper parámetros a probar\n",
    "param_grid = [\n",
    "    {\n",
    "        'C': [0.001, 0.01, 0.1, 0.6, 1],\n",
    "        'penalty': ['l1', 'l2'],\n",
    "        'solver': ['liblinear', 'saga']\n",
    "    },\n",
    "    {\n",
    "        'C': [0.001, 0.01, 0.1, 0.6, 1],\n",
    "        'penalty': ['elasticnet'],\n",
    "        'solver': ['saga'],\n",
    "        'l1_ratio': [0.2, 0.5, 0.8]\n",
    "    },\n",
    "    {\n",
    "        'C': [0.001, 0.01, 0.1, 0.6, 1],\n",
    "        'penalty': ['l2'],\n",
    "        'solver': ['lbfgs', 'newton-cg', 'sag'],\n",
    "    },\n",
    "]\n",
    "\n",
    "# Instanciar la clase de regresión logística\n",
    "logreg = LogisticRegression(max_iter=1000000000, tol=1e-4, random_state=42)\n",
    "\n",
    "# Instanciar el grid search\n",
    "grid_search = GridSearchCV(estimator=logreg, param_grid=param_grid, cv=5, verbose=2, n_jobs=-1, scoring='accuracy')\n",
    "\n",
    "# Entrenamos el modelo con grid search\n",
    "grid_search.fit(X_train, y_train)\n",
    "\n",
    "# Conseguimos los mejores parámetros y estimador\n",
    "best_params = grid_search.best_params_\n",
    "opt_logreg = grid_search.best_estimator_\n",
    "\n",
    "print(f'Mejores parámetros: {best_params}')"
   ],
   "metadata": {
    "collapsed": false,
    "ExecuteTime": {
     "end_time": "2023-09-11T23:57:07.797263Z",
     "start_time": "2023-09-11T23:57:05.581829Z"
    }
   },
   "id": "b7b4bfa6cfe3fb0f"
  },
  {
   "cell_type": "code",
   "execution_count": 38,
   "outputs": [
    {
     "data": {
      "text/plain": "<Figure size 640x480 with 1 Axes>",
      "image/png": "[encoded data removed]"
     },
     "metadata": {},
     "output_type": "display_data"
    },
    {
     "name": "stdout",
     "output_type": "stream",
     "text": [
      "Validation Score: 0.7714285714285715\n"
     ]
    }
   ],
   "source": [
    "# Learning Curve\n",
    "train_sizes, train_scores, val_scores = learning_curve(\n",
    "    opt_logreg, X_train, y_train, cv=5, n_jobs=-1,\n",
    "    train_sizes=np.linspace(0.1, 1.0, 10)\n",
    ")\n",
    "\n",
    "# Calcular media y desviación estándar para el set de entrenamiento\n",
    "train_mean = np.mean(train_scores, axis=1)\n",
    "train_std = np.std(train_scores, axis=1)\n",
    "\n",
    "# Calcular media y desviación estándar para el set de valoración\n",
    "val_mean = np.mean(val_scores, axis=1)\n",
    "val_std = np.std(val_scores, axis=1)\n",
    "\n",
    "# Graficar learning curves\n",
    "plt.figure()\n",
    "plt.fill_between(train_sizes, train_mean - train_std, train_mean + train_std, alpha=0.1, color='r')\n",
    "plt.fill_between(train_sizes, val_mean - val_std, val_mean + val_std, alpha=0.1, color='g')\n",
    "plt.plot(train_sizes, train_mean, 'o-', color='r', label='Training score')\n",
    "plt.plot(train_sizes, val_mean, 'o-', color='g', label='Cross-validation score')\n",
    "plt.xlabel('Training Set Size')\n",
    "plt.ylabel('Accuracy Score')\n",
    "plt.legend(loc='best')\n",
    "plt.show()\n",
    "\n",
    "# Validamos el model usando los datos de X_val y y_val\n",
    "val_score = opt_logreg.score(X_val, y_val)\n",
    "print(f'Validation Score: {val_score}')"
   ],
   "metadata": {
    "collapsed": false,
    "ExecuteTime": {
     "end_time": "2023-09-11T23:57:07.989724Z",
     "start_time": "2023-09-11T23:57:07.797468Z"
    }
   },
   "id": "19d3db86cb9cc117"
  },
  {
   "cell_type": "markdown",
   "source": [
    "## Diagnósticos"
   ],
   "metadata": {
    "collapsed": false
   },
   "id": "6e54fe0bae03399f"
  },
  {
   "cell_type": "code",
   "execution_count": 39,
   "outputs": [
    {
     "name": "stdout",
     "output_type": "stream",
     "text": [
      "Sesgo medio\n"
     ]
    }
   ],
   "source": [
    "# Conseguimos el nivel de sesgo\n",
    "if train_mean[-1] < 0.7:\n",
    "    print(\"Sesgo alto\")\n",
    "elif 0.7 <= train_mean[-1] < 0.9:\n",
    "    print(\"Sesgo medio\")\n",
    "else:\n",
    "    print(\"Sesgo bajo\")"
   ],
   "metadata": {
    "collapsed": false,
    "ExecuteTime": {
     "end_time": "2023-09-11T23:57:07.995718Z",
     "start_time": "2023-09-11T23:57:07.989867Z"
    }
   },
   "id": "3bccbc2a346a2e61"
  },
  {
   "cell_type": "code",
   "execution_count": 40,
   "outputs": [
    {
     "name": "stdout",
     "output_type": "stream",
     "text": [
      "Baja varianza\n"
     ]
    }
   ],
   "source": [
    "# Diagnóstico de varianza\n",
    "gap = train_mean[-1] - val_mean[-1]\n",
    "if gap > 0.2:\n",
    "    print(\"Alta varianza\")\n",
    "elif 0.1 < gap <= 0.2:\n",
    "    print(\"Varianza media\")\n",
    "else:\n",
    "    print(\"Baja varianza\")"
   ],
   "metadata": {
    "collapsed": false,
    "ExecuteTime": {
     "end_time": "2023-09-11T23:57:08.010756Z",
     "start_time": "2023-09-11T23:57:07.995401Z"
    }
   },
   "id": "52d905c4af2fd25"
  },
  {
   "cell_type": "code",
   "execution_count": 46,
   "outputs": [
    {
     "name": "stdout",
     "output_type": "stream",
     "text": [
      "Good fit\n"
     ]
    }
   ],
   "source": [
    "# Calcular la media de los últimos valores de las curvas de aprendizaje\n",
    "train_mean_last = np.mean(train_mean[-3:])\n",
    "val_mean_last = np.mean(val_mean[-3:])\n",
    "\n",
    "# Diagnóstico de ajuste del modelo\n",
    "if train_mean_last < 0.7 and val_mean_last < 0.7:\n",
    "    print(\"Underfitting\")\n",
    "elif train_mean_last >= 0.7 and val_mean_last >= 0.7:\n",
    "    print(\"Good fit\")\n",
    "else:\n",
    "    print(\"Overfitting\")"
   ],
   "metadata": {
    "collapsed": false,
    "ExecuteTime": {
     "end_time": "2023-09-12T00:34:09.277830Z",
     "start_time": "2023-09-12T00:34:09.272967Z"
    }
   },
   "id": "8895cfcd5e0de846"
  },
  {
   "cell_type": "markdown",
   "source": [
    "## Pruebas del modelo"
   ],
   "metadata": {
    "collapsed": false
   },
   "id": "975854c625b9033d"
  },
  {
   "cell_type": "code",
   "execution_count": 42,
   "outputs": [
    {
     "name": "stdout",
     "output_type": "stream",
     "text": [
      "Matriz de confusión:\n"
     ]
    },
    {
     "data": {
      "text/plain": "<Figure size 640x480 with 2 Axes>",
      "image/png": "[encoded data removed]"
     },
     "metadata": {},
     "output_type": "display_data"
    },
    {
     "name": "stdout",
     "output_type": "stream",
     "text": [
      "Métricas:\n",
      "Accuracy score: 0.75\n",
      "Precision score: 0.62\n",
      "Recall score: 0.68\n",
      "F1 score: 0.65\n"
     ]
    }
   ],
   "source": [
    "y_prediction = opt_logreg.predict(X_test)\n",
    "\n",
    "print('Matriz de confusión:\\n')\n",
    "disp = ConfusionMatrixDisplay(confusion_matrix=confusion_matrix(y_test, y_prediction))\n",
    "disp.plot(cmap='bone')\n",
    "plt.show()\n",
    "print(f'Métricas:')\n",
    "print(f'Accuracy score: {round(accuracy_score(y_test, y_prediction), 2)}')\n",
    "print(f'Precision score: {round(precision_score(y_test, y_prediction), 2)}')\n",
    "print(f'Recall score: {round(recall_score(y_test, y_prediction), 2)}')\n",
    "print(f'F1 score: {round(f1_score(y_test, y_prediction), 2)}')"
   ],
   "metadata": {
    "collapsed": false,
    "ExecuteTime": {
     "end_time": "2023-09-11T23:57:08.114610Z",
     "start_time": "2023-09-11T23:57:08.008761Z"
    }
   },
   "id": "9b9c1268b3a39a0f"
  }
 ],
 "metadata": {
  "kernelspec": {
   "display_name": "Python 3",
   "language": "python",
   "name": "python3"
  },
  "language_info": {
   "codemirror_mode": {
    "name": "ipython",
    "version": 2
   },
   "file_extension": ".py",
   "mimetype": "text/x-python",
   "name": "python",
   "nbconvert_exporter": "python",
   "pygments_lexer": "ipython2",
   "version": "2.7.6"
  }
 },
 "nbformat": 4,
 "nbformat_minor": 5
}
